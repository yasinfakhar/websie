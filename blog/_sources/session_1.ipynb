{
 "cells": [
  {
   "cell_type": "markdown",
   "id": "5e3915e1-7533-4bd4-84db-830a0eadae2b",
   "metadata": {
    "tags": [],
    "user_expressions": []
   },
   "source": [
    "# Session 1"
   ]
  },
  {
   "cell_type": "markdown",
   "id": "c6386e11-52ad-4fdf-acea-9dc3a18945c4",
   "metadata": {
    "tags": [],
    "user_expressions": []
   },
   "source": [
    "## What is Python?"
   ]
  },
  {
   "cell_type": "markdown",
   "id": "7c914bf3-7b17-4b8d-9659-5797cef2783d",
   "metadata": {
    "user_expressions": []
   },
   "source": [
    "<p style=\"text-align: justify\">\n",
    "Python is one of the most popular programming laguage among programmers. This is a scpripting language Python was conceived in the late 1980s by <a href=\"https://en.wikipedia.org/wiki/Guido_van_Rossum\">Guido van Rossum</a>\n",
    "(<a href=\"https://en.wikipedia.org/wiki/Python_(programming_language)\">read more</a>)\n",
    "</p>"
   ]
  },
  {
   "cell_type": "markdown",
   "id": "2c8112e0-f06c-4816-9935-c99faa52f3d3",
   "metadata": {
    "tags": [],
    "user_expressions": []
   },
   "source": [
    "## Why Python?"
   ]
  },
  {
   "cell_type": "markdown",
   "id": "fbb8d064-8b9a-4b7b-b1c7-1076df8a65e8",
   "metadata": {
    "user_expressions": []
   },
   "source": [
    "* Python is a high-level, object oriented, dynamic, simple, cross-platform language \n",
    "* Huge Community\n",
    "* Python is used in many fields including Web development, Game Development, AI, Desktop Application and so on. (General purpose language)\n"
   ]
  },
  {
   "cell_type": "markdown",
   "id": "ac1a7917-4089-4974-98d4-89a899bd91dd",
   "metadata": {
    "user_expressions": []
   },
   "source": [
    "## How get started?"
   ]
  },
  {
   "cell_type": "markdown",
   "id": "867ec30e-d262-40f6-872b-910575be3466",
   "metadata": {
    "user_expressions": []
   },
   "source": [
    "<p style=\"text-align: justify\">First of all we need to install python on our machine. For doing that go to this <a href=\"https://www.python.org/\">website</a> and then under the download section you can find the latest version of python, download the installer according to your OS. (not recommended)</p>"
   ]
  },
  {
   "cell_type": "markdown",
   "id": "144dbe0f-9775-4bf6-9ebb-a96cfc37c11d",
   "metadata": {
    "user_expressions": []
   },
   "source": [
    "```{attention} Alert\n",
    "I recommend to install version `3.8` of python because most of the other libraries is compatible with this version. In order to install other versions of python you can follow this [link](https://realpython.com/installing-python/) and install the version `3.8`\n",
    "```"
   ]
  },
  {
   "cell_type": "markdown",
   "id": "45aa917f-7e71-42a1-9ee0-451d2f368788",
   "metadata": {
    "user_expressions": []
   },
   "source": [
    "```{attention} Alert\n",
    "Make sure during installing the Python check `Add Python 3.* to PATH` for setting up Python to your enviroment vaiable\n",
    "```"
   ]
  },
  {
   "cell_type": "code",
   "execution_count": null,
   "id": "d9b54e29-9786-47ef-a7f1-77da70fd316b",
   "metadata": {},
   "outputs": [],
   "source": []
  }
 ],
 "metadata": {
  "kernelspec": {
   "display_name": "Python 3 (ipykernel)",
   "language": "python",
   "name": "python3"
  },
  "language_info": {
   "codemirror_mode": {
    "name": "ipython",
    "version": 3
   },
   "file_extension": ".py",
   "mimetype": "text/x-python",
   "name": "python",
   "nbconvert_exporter": "python",
   "pygments_lexer": "ipython3",
   "version": "3.8.0"
  }
 },
 "nbformat": 4,
 "nbformat_minor": 5
}
